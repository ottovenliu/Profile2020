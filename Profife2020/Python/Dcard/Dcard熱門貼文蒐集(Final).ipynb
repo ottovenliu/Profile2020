{
 "cells": [
  {
   "cell_type": "code",
   "execution_count": 1,
   "metadata": {},
   "outputs": [],
   "source": [
    "# https://www.dcard.tw/f TEST WEBSITE\n",
    "import requests\n",
    "from pyquery import PyQuery as pq \n",
    "import numpy as np"
   ]
  },
  {
   "cell_type": "code",
   "execution_count": 2,
   "metadata": {},
   "outputs": [
    {
     "name": "stdout",
     "output_type": "stream",
     "text": [
      "Dcard熱門話題:https://www.dcard.tw/f\n",
      "Top話題:10\n",
      "[{'Title': '哈囉我是阿滴，分享紐時集資案的後續發展', 'Type': '武漢肺炎', 'Like': '8797', 'Comment': '168'}\n",
      " {'Title': '#更 換個角度看事情', 'Type': '心情', 'Like': '4012', 'Comment': '610'}\n",
      " {'Title': '更）我喜歡妳不會因為被妳拒絕而有所改變', 'Type': '感情', 'Like': '3676', 'Comment': '104'}\n",
      " {'Title': 'Advertise', 'Type': '', 'Like': '', 'Comment': ''}\n",
      " {'Title': 'Advertise', 'Type': '', 'Like': '', 'Comment': ''}\n",
      " {'Title': 'Advertise', 'Type': '', 'Like': '', 'Comment': ''}\n",
      " {'Title': 'ㄨ馬真的做錯了！！！', 'Type': '心情', 'Like': '2860', 'Comment': '306'}\n",
      " {'Title': 'Advertise', 'Type': '', 'Like': '', 'Comment': ''}\n",
      " {'Title': '穿安全褲是女生的責任?', 'Type': '心情', 'Like': '2714', 'Comment': '274'}\n",
      " {'Title': '你家的狗好像有點喜歡我？', 'Type': '有趣', 'Like': '2453', 'Comment': '39'}\n",
      " {'Title': '茶湯會好少…', 'Type': '美食', 'Like': '1869', 'Comment': '102'}\n",
      " {'Title': 'Advertise', 'Type': '', 'Like': '', 'Comment': ''}]\n"
     ]
    }
   ],
   "source": [
    "# 網頁定位\n",
    "Url = input(\"Dcard熱門話題:\")\n",
    "Topx = int(input(\"Top話題:\"))+2\n",
    "doc = pq(Url)\n",
    "dateList = []\n",
    "# 資料採集\n",
    "for i in range(Topx):\n",
    "    i += 3\n",
    "    Title = doc('#__next > div.sc-1szhyqg-0.dNvklZ > div.sc-1szhyqg-2.kZxHwn > div > div > div > div > div:nth-child(2) > div > div:nth-child(1) > div:nth-child({}) > article > h2 > a'.format(i)).text()\n",
    "    Type = doc(\"#__next > div.sc-1szhyqg-0.dNvklZ > div.sc-1szhyqg-2.kZxHwn > div > div > div > div > div:nth-child(2) > div > div:nth-child(1) > div:nth-child({}) > article > div.sc-1v1d5rx-1.jokhD > div > div.sc-6oxm01-1.cuMsby > span:nth-child(1)\".format(i)).text()\n",
    "    Like = doc(\"#__next > div.sc-1szhyqg-0.dNvklZ > div.sc-1szhyqg-2.kZxHwn > div > div > div > div > div:nth-child(2) > div > div:nth-child(1) > div:nth-child({}) > article > div.qtg15c-1.dKXZJX > div:nth-child(1) > div > div.sc-1kuvyve-3.bIYJbX\".format(i)).text()\n",
    "    Comment = doc(\"#__next > div.sc-1szhyqg-0.dNvklZ > div.sc-1szhyqg-2.kZxHwn > div > div > div > div > div:nth-child(2) > div > div:nth-child(1) > div:nth-child({}) > article > div.qtg15c-1.dKXZJX > div:nth-child(2) > span:nth-child(2)\".format(i)).text()\n",
    "    dateDict = {}\n",
    "    dateDict[\"Title\"] = Title\n",
    "    dateDict[\"Type\"] = Type\n",
    "    dateDict[\"Like\"] = Like\n",
    "    dateDict[\"Comment\"] = Comment\n",
    "    dateList.append(dateDict)\n",
    "w = np.array(dateList)\n",
    "for i in range(Topx):\n",
    "    if w[i][\"Title\"] == '':\n",
    "        w[i][\"Title\"]=\"Advertise\"\n",
    "# 資料檢驗\n",
    "print(w)"
   ]
  },
  {
   "cell_type": "code",
   "execution_count": 3,
   "metadata": {},
   "outputs": [],
   "source": [
    "# 檢驗方式(虛擬網頁)\n",
    "from selenium import webdriver\n",
    "from time import sleep\n",
    "from bs4 import BeautifulSoup"
   ]
  },
  {
   "cell_type": "code",
   "execution_count": 6,
   "metadata": {},
   "outputs": [
    {
     "name": "stdout",
     "output_type": "stream",
     "text": [
      "Dcard熱門話題:https://www.dcard.tw/f\n",
      "Top話題:20\n",
      "[{'Title': '哈囉我是阿滴，分享紐時集資案的後續發展', 'Type': '武漢肺炎', 'Like': '8797', 'Comment': '168'}\n",
      " {'Title': '#更 換個角度看事情', 'Type': '心情', 'Like': '4012', 'Comment': '610'}\n",
      " {'Title': '更）我喜歡妳不會因為被妳拒絕而有所改變', 'Type': '感情', 'Like': '3676', 'Comment': '104'}\n",
      " {'Title': 'Advertise', 'Type': '', 'Like': '', 'Comment': ''}\n",
      " {'Title': 'Advertise', 'Type': '', 'Like': '', 'Comment': ''}\n",
      " {'Title': 'Advertise', 'Type': '', 'Like': '', 'Comment': ''}\n",
      " {'Title': 'ㄨ馬真的做錯了！！！', 'Type': '心情', 'Like': '2860', 'Comment': '306'}\n",
      " {'Title': 'Advertise', 'Type': '', 'Like': '', 'Comment': ''}\n",
      " {'Title': '穿安全褲是女生的責任?', 'Type': '心情', 'Like': '2714', 'Comment': '274'}\n",
      " {'Title': '你家的狗好像有點喜歡我？', 'Type': '有趣', 'Like': '2453', 'Comment': '39'}\n",
      " {'Title': '茶湯會好少…', 'Type': '美食', 'Like': '1869', 'Comment': '102'}\n",
      " {'Title': 'Advertise', 'Type': '', 'Like': '', 'Comment': ''}\n",
      " {'Title': '妹子身體裡的味道', 'Type': '心情', 'Like': '1688', 'Comment': '98'}\n",
      " {'Title': 'Advertise', 'Type': '', 'Like': '', 'Comment': ''}\n",
      " {'Title': '欸不是...怎麼又是你', 'Type': '有趣', 'Like': '1442', 'Comment': '49'}\n",
      " {'Title': 'Advertise', 'Type': '', 'Like': '', 'Comment': ''}\n",
      " {'Title': 'Advertise', 'Type': '', 'Like': '', 'Comment': ''}\n",
      " {'Title': 'Advertise', 'Type': '', 'Like': '', 'Comment': ''}\n",
      " {'Title': '175 - 161 =🐯🐰', 'Type': '彩虹', 'Like': '1392', 'Comment': '53'}\n",
      " {'Title': '為什麼曖昧常常突然冷掉', 'Type': '感情', 'Like': '1316', 'Comment': '123'}\n",
      " {'Title': '紀錄一下在我眼皮上住了好幾年的顆粒', 'Type': '美妝', 'Like': '1201', 'Comment': '92'}\n",
      " {'Title': '男友睡著後…', 'Type': '感情', 'Like': '1161', 'Comment': '66'}]\n"
     ]
    }
   ],
   "source": [
    "# 網站定位\n",
    "Url = input(\"Dcard熱門話題:\")\n",
    "Topx = int(input(\"Top話題:\"))+2\n",
    "doc = pq(Url)\n",
    "dateList = []\n",
    "# 資料採集\n",
    "driver = webdriver.Chrome(\"chromedriver\")\n",
    "driver.implicitly_wait(5)\n",
    "res = driver.get(Url)\n",
    "for i in range((int(Topx/5))):\n",
    "    driver.execute_script(\"window.scrollTo(0,document.body.scrollHeight);\")\n",
    "    sleep(3)\n",
    "soup = BeautifulSoup(driver.page_source)\n",
    "for i in range(Topx):\n",
    "    i += 3\n",
    "    Title = doc('#__next > div.sc-1szhyqg-0.dNvklZ > div.sc-1szhyqg-2.kZxHwn > div > div > div > div > div:nth-child(2) > div > div:nth-child(1) > div:nth-child({}) > article > h2 > a'.format(i)).text()\n",
    "    Type = doc(\"#__next > div.sc-1szhyqg-0.dNvklZ > div.sc-1szhyqg-2.kZxHwn > div > div > div > div > div:nth-child(2) > div > div:nth-child(1) > div:nth-child({}) > article > div.sc-1v1d5rx-1.jokhD > div > div.sc-6oxm01-1.cuMsby > span:nth-child(1)\".format(i)).text()\n",
    "    Like = doc(\"#__next > div.sc-1szhyqg-0.dNvklZ > div.sc-1szhyqg-2.kZxHwn > div > div > div > div > div:nth-child(2) > div > div:nth-child(1) > div:nth-child({}) > article > div.qtg15c-1.dKXZJX > div:nth-child(1) > div > div.sc-1kuvyve-3.bIYJbX\".format(i)).text()\n",
    "    Comment = doc(\"#__next > div.sc-1szhyqg-0.dNvklZ > div.sc-1szhyqg-2.kZxHwn > div > div > div > div > div:nth-child(2) > div > div:nth-child(1) > div:nth-child({}) > article > div.qtg15c-1.dKXZJX > div:nth-child(2) > span:nth-child(2)\".format(i)).text()\n",
    "    dateDict = {}\n",
    "    dateDict[\"Title\"] = Title\n",
    "    dateDict[\"Type\"] = Type\n",
    "    dateDict[\"Like\"] = Like\n",
    "    dateDict[\"Comment\"] = Comment\n",
    "    dateList.append(dateDict)\n",
    "w = np.array(dateList)\n",
    "for i in range(Topx):\n",
    "    if w[i][\"Title\"] == '':\n",
    "        w[i][\"Title\"]=\"Advertise\"\n",
    "# 檢驗資料\n",
    "print(w)"
   ]
  },
  {
   "cell_type": "code",
   "execution_count": null,
   "metadata": {},
   "outputs": [],
   "source": []
  }
 ],
 "metadata": {
  "kernelspec": {
   "display_name": "Python 3",
   "language": "python",
   "name": "python3"
  },
  "language_info": {
   "codemirror_mode": {
    "name": "ipython",
    "version": 3
   },
   "file_extension": ".py",
   "mimetype": "text/x-python",
   "name": "python",
   "nbconvert_exporter": "python",
   "pygments_lexer": "ipython3",
   "version": "3.8.2"
  }
 },
 "nbformat": 4,
 "nbformat_minor": 4
}
