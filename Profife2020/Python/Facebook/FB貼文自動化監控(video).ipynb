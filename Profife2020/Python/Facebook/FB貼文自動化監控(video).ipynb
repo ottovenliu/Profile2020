{
 "cells": [
  {
   "cell_type": "code",
   "execution_count": 5,
   "metadata": {},
   "outputs": [],
   "source": [
    "# 安裝套件\n",
    "from selenium import webdriver\n",
    "import requests\n",
    "from pyquery import PyQuery as pq \n",
    "import time\n",
    "import numpy as np"
   ]
  },
  {
   "cell_type": "code",
   "execution_count": 8,
   "metadata": {},
   "outputs": [
    {
     "name": "stdout",
     "output_type": "stream",
     "text": [
      "輸入0結束網址輸入\n",
      "請輸入FB影片網址:https://www.facebook.com/masa.abc/videos/683819552446196/\n",
      "請輸入FB影片網址:https://www.facebook.com/masa.abc/videos/3188854084487556/\n",
      "請輸入FB影片網址:0\n",
      "[{'Title': '培根&堅果營養南瓜沙拉/Kabocha Salad with Bacon&Nuts|MASAの料理ABC', 'Date': '4月28日下午9:06', 'Like': '7,246', 'Comment': '119則留言', 'Share': '1,259次分享'}\n",
      " {'Title': '超級簡單壽司三明治/Super Easy Sushi Sandwich|MASAの料理ABC', 'Date': '4月21日下午9:06', 'Like': '9,480', 'Comment': '147則留言', 'Share': '1,747次分享'}]\n"
     ]
    }
   ],
   "source": [
    "# https://www.facebook.com/masa.abc/videos/683819552446196/  -->test\n",
    "# https://www.facebook.com/masa.abc/videos/3188854084487556/-->test\n",
    "UrlList = []\n",
    "print(\"輸入0結束網址輸入\")\n",
    "while True :\n",
    "    Url = input(\"請輸入FB影片網址:\")\n",
    "    UrlList.append(Url)\n",
    "    while Url==\" \":\n",
    "        print(\"剛剛好像沒輸入到,再重新試試看吧\")\n",
    "        UrlList.remove(\" \")\n",
    "        break\n",
    "    if Url==\"0\":\n",
    "        UrlList.remove(\"0\")\n",
    "        break\n",
    "TotalWebsite = len(UrlList)\n",
    "\n",
    "# 資料蒐集\n",
    "driver = webdriver.Chrome()\n",
    "time.sleep(3)\n",
    "TotalWebsite = int(len(UrlList))\n",
    "a = 0\n",
    "dateList = []\n",
    "for i in range(TotalWebsite):\n",
    "    driver.get(UrlList[a])\n",
    "    html = driver.find_elements_by_css_selector(\"#stream_pagelet\")\n",
    "    title = driver.find_elements_by_css_selector(\"._8gvk > h1 > span\")[0].text\n",
    "    date = driver.find_elements_by_css_selector(\"span.z_c3pyo1brp > span > a > abbr >span\")[0].text\n",
    "    like = driver.find_elements_by_css_selector(\"div._7f6e  span._3dlh\")[0].text\n",
    "    comment = driver.find_elements_by_css_selector(\"div._7f6e div._4vn1 > span._1whp > a\")[0].text\n",
    "    share = driver.find_elements_by_css_selector(\"div._7f6e div._4vn1 > span._355t > a\")[0].text\n",
    "    dateDict = {}\n",
    "    dateDict[\"Title\"] = title\n",
    "    dateDict[\"Date\"] = date\n",
    "    dateDict[\"Like\"] = like\n",
    "    dateDict[\"Comment\"] = comment\n",
    "    dateDict[\"Share\"] = share\n",
    "    dateList.append(dateDict)\n",
    "    time.sleep(3)\n",
    "    a+=1\n",
    "driver.close()\n",
    "w = np.array(dateList)\n",
    "for i in range(TotalWebsite):\n",
    "    if w[i][\"Title\"] == '':\n",
    "        w[i][\"Title\"]=\"none\"\n",
    "        \n",
    "# 資料檢驗\n",
    "print(w)"
   ]
  },
  {
   "cell_type": "code",
   "execution_count": null,
   "metadata": {},
   "outputs": [],
   "source": []
  },
  {
   "cell_type": "code",
   "execution_count": null,
   "metadata": {},
   "outputs": [],
   "source": []
  }
 ],
 "metadata": {
  "kernelspec": {
   "display_name": "Python 3",
   "language": "python",
   "name": "python3"
  },
  "language_info": {
   "codemirror_mode": {
    "name": "ipython",
    "version": 3
   },
   "file_extension": ".py",
   "mimetype": "text/x-python",
   "name": "python",
   "nbconvert_exporter": "python",
   "pygments_lexer": "ipython3",
   "version": "3.8.2"
  }
 },
 "nbformat": 4,
 "nbformat_minor": 4
}
